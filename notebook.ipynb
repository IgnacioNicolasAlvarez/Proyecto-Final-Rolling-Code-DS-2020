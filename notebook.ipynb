{
 "metadata": {
  "language_info": {
   "codemirror_mode": {
    "name": "ipython",
    "version": 3
   },
   "file_extension": ".py",
   "mimetype": "text/x-python",
   "name": "python",
   "nbconvert_exporter": "python",
   "pygments_lexer": "ipython3",
   "version": "3.7.9-final"
  },
  "orig_nbformat": 2,
  "kernelspec": {
   "name": "python3",
   "display_name": "Python 3.7.9 64-bit ('venv')",
   "metadata": {
    "interpreter": {
     "hash": "627429c6d4048401e78c43dedb784fb6f5b536ad7d7eef55fec21adb8904164c"
    }
   }
  }
 },
 "nbformat": 4,
 "nbformat_minor": 2,
 "cells": [
  {
   "cell_type": "code",
   "execution_count": 27,
   "metadata": {},
   "outputs": [],
   "source": [
    "import pandas as pd\n",
    "import seaborn as sns\n",
    "import matplotlib.pyplot as plt\n",
    "from IPython.display import display\n",
    "\n",
    "%matplotlib inline\n",
    "plt.style.use('bmh')"
   ]
  },
  {
   "cell_type": "code",
   "execution_count": 2,
   "metadata": {},
   "outputs": [],
   "source": [
    "df_raw = pd.read_csv(\"data\\diabetic_data.csv\")"
   ]
  },
  {
   "cell_type": "code",
   "execution_count": 38,
   "metadata": {},
   "outputs": [
    {
     "output_type": "display_data",
     "data": {
      "text/plain": "   encounter_id  patient_nbr             race  gender      age weight  \\\n0       2278392      8222157        Caucasian  Female   [0-10)      ?   \n1        149190     55629189        Caucasian  Female  [10-20)      ?   \n2         64410     86047875  AfricanAmerican  Female  [20-30)      ?   \n3        500364     82442376        Caucasian    Male  [30-40)      ?   \n4         16680     42519267        Caucasian    Male  [40-50)      ?   \n\n   admission_type_id  discharge_disposition_id  admission_source_id  \\\n0                  6                        25                    1   \n1                  1                         1                    7   \n2                  1                         1                    7   \n3                  1                         1                    7   \n4                  1                         1                    7   \n\n   time_in_hospital  ... citoglipton insulin  glyburide-metformin  \\\n0                 1  ...          No      No                   No   \n1                 3  ...          No      Up                   No   \n2                 2  ...          No      No                   No   \n3                 2  ...          No      Up                   No   \n4                 1  ...          No  Steady                   No   \n\n   glipizide-metformin  glimepiride-pioglitazone  metformin-rosiglitazone  \\\n0                   No                        No                       No   \n1                   No                        No                       No   \n2                   No                        No                       No   \n3                   No                        No                       No   \n4                   No                        No                       No   \n\n   metformin-pioglitazone  change diabetesMed readmitted  \n0                      No      No          No         NO  \n1                      No      Ch         Yes        >30  \n2                      No      No         Yes         NO  \n3                      No      Ch         Yes         NO  \n4                      No      Ch         Yes         NO  \n\n[5 rows x 50 columns]",
      "text/html": "<div>\n<style scoped>\n    .dataframe tbody tr th:only-of-type {\n        vertical-align: middle;\n    }\n\n    .dataframe tbody tr th {\n        vertical-align: top;\n    }\n\n    .dataframe thead th {\n        text-align: right;\n    }\n</style>\n<table border=\"1\" class=\"dataframe\">\n  <thead>\n    <tr style=\"text-align: right;\">\n      <th></th>\n      <th>encounter_id</th>\n      <th>patient_nbr</th>\n      <th>race</th>\n      <th>gender</th>\n      <th>age</th>\n      <th>weight</th>\n      <th>admission_type_id</th>\n      <th>discharge_disposition_id</th>\n      <th>admission_source_id</th>\n      <th>time_in_hospital</th>\n      <th>...</th>\n      <th>citoglipton</th>\n      <th>insulin</th>\n      <th>glyburide-metformin</th>\n      <th>glipizide-metformin</th>\n      <th>glimepiride-pioglitazone</th>\n      <th>metformin-rosiglitazone</th>\n      <th>metformin-pioglitazone</th>\n      <th>change</th>\n      <th>diabetesMed</th>\n      <th>readmitted</th>\n    </tr>\n  </thead>\n  <tbody>\n    <tr>\n      <th>0</th>\n      <td>2278392</td>\n      <td>8222157</td>\n      <td>Caucasian</td>\n      <td>Female</td>\n      <td>[0-10)</td>\n      <td>?</td>\n      <td>6</td>\n      <td>25</td>\n      <td>1</td>\n      <td>1</td>\n      <td>...</td>\n      <td>No</td>\n      <td>No</td>\n      <td>No</td>\n      <td>No</td>\n      <td>No</td>\n      <td>No</td>\n      <td>No</td>\n      <td>No</td>\n      <td>No</td>\n      <td>NO</td>\n    </tr>\n    <tr>\n      <th>1</th>\n      <td>149190</td>\n      <td>55629189</td>\n      <td>Caucasian</td>\n      <td>Female</td>\n      <td>[10-20)</td>\n      <td>?</td>\n      <td>1</td>\n      <td>1</td>\n      <td>7</td>\n      <td>3</td>\n      <td>...</td>\n      <td>No</td>\n      <td>Up</td>\n      <td>No</td>\n      <td>No</td>\n      <td>No</td>\n      <td>No</td>\n      <td>No</td>\n      <td>Ch</td>\n      <td>Yes</td>\n      <td>&gt;30</td>\n    </tr>\n    <tr>\n      <th>2</th>\n      <td>64410</td>\n      <td>86047875</td>\n      <td>AfricanAmerican</td>\n      <td>Female</td>\n      <td>[20-30)</td>\n      <td>?</td>\n      <td>1</td>\n      <td>1</td>\n      <td>7</td>\n      <td>2</td>\n      <td>...</td>\n      <td>No</td>\n      <td>No</td>\n      <td>No</td>\n      <td>No</td>\n      <td>No</td>\n      <td>No</td>\n      <td>No</td>\n      <td>No</td>\n      <td>Yes</td>\n      <td>NO</td>\n    </tr>\n    <tr>\n      <th>3</th>\n      <td>500364</td>\n      <td>82442376</td>\n      <td>Caucasian</td>\n      <td>Male</td>\n      <td>[30-40)</td>\n      <td>?</td>\n      <td>1</td>\n      <td>1</td>\n      <td>7</td>\n      <td>2</td>\n      <td>...</td>\n      <td>No</td>\n      <td>Up</td>\n      <td>No</td>\n      <td>No</td>\n      <td>No</td>\n      <td>No</td>\n      <td>No</td>\n      <td>Ch</td>\n      <td>Yes</td>\n      <td>NO</td>\n    </tr>\n    <tr>\n      <th>4</th>\n      <td>16680</td>\n      <td>42519267</td>\n      <td>Caucasian</td>\n      <td>Male</td>\n      <td>[40-50)</td>\n      <td>?</td>\n      <td>1</td>\n      <td>1</td>\n      <td>7</td>\n      <td>1</td>\n      <td>...</td>\n      <td>No</td>\n      <td>Steady</td>\n      <td>No</td>\n      <td>No</td>\n      <td>No</td>\n      <td>No</td>\n      <td>No</td>\n      <td>Ch</td>\n      <td>Yes</td>\n      <td>NO</td>\n    </tr>\n  </tbody>\n</table>\n<p>5 rows × 50 columns</p>\n</div>"
     },
     "metadata": {}
    },
    {
     "output_type": "display_data",
     "data": {
      "text/plain": "        encounter_id  patient_nbr             race  gender      age weight  \\\n101761     443847548    100162476  AfricanAmerican    Male  [70-80)      ?   \n101762     443847782     74694222  AfricanAmerican  Female  [80-90)      ?   \n101763     443854148     41088789        Caucasian    Male  [70-80)      ?   \n101764     443857166     31693671        Caucasian  Female  [80-90)      ?   \n101765     443867222    175429310        Caucasian    Male  [70-80)      ?   \n\n        admission_type_id  discharge_disposition_id  admission_source_id  \\\n101761                  1                         3                    7   \n101762                  1                         4                    5   \n101763                  1                         1                    7   \n101764                  2                         3                    7   \n101765                  1                         1                    7   \n\n        time_in_hospital  ... citoglipton insulin  glyburide-metformin  \\\n101761                 3  ...          No    Down                   No   \n101762                 5  ...          No  Steady                   No   \n101763                 1  ...          No    Down                   No   \n101764                10  ...          No      Up                   No   \n101765                 6  ...          No      No                   No   \n\n        glipizide-metformin  glimepiride-pioglitazone  \\\n101761                   No                        No   \n101762                   No                        No   \n101763                   No                        No   \n101764                   No                        No   \n101765                   No                        No   \n\n        metformin-rosiglitazone  metformin-pioglitazone  change diabetesMed  \\\n101761                       No                      No      Ch         Yes   \n101762                       No                      No      No         Yes   \n101763                       No                      No      Ch         Yes   \n101764                       No                      No      Ch         Yes   \n101765                       No                      No      No          No   \n\n       readmitted  \n101761        >30  \n101762         NO  \n101763         NO  \n101764         NO  \n101765         NO  \n\n[5 rows x 50 columns]",
      "text/html": "<div>\n<style scoped>\n    .dataframe tbody tr th:only-of-type {\n        vertical-align: middle;\n    }\n\n    .dataframe tbody tr th {\n        vertical-align: top;\n    }\n\n    .dataframe thead th {\n        text-align: right;\n    }\n</style>\n<table border=\"1\" class=\"dataframe\">\n  <thead>\n    <tr style=\"text-align: right;\">\n      <th></th>\n      <th>encounter_id</th>\n      <th>patient_nbr</th>\n      <th>race</th>\n      <th>gender</th>\n      <th>age</th>\n      <th>weight</th>\n      <th>admission_type_id</th>\n      <th>discharge_disposition_id</th>\n      <th>admission_source_id</th>\n      <th>time_in_hospital</th>\n      <th>...</th>\n      <th>citoglipton</th>\n      <th>insulin</th>\n      <th>glyburide-metformin</th>\n      <th>glipizide-metformin</th>\n      <th>glimepiride-pioglitazone</th>\n      <th>metformin-rosiglitazone</th>\n      <th>metformin-pioglitazone</th>\n      <th>change</th>\n      <th>diabetesMed</th>\n      <th>readmitted</th>\n    </tr>\n  </thead>\n  <tbody>\n    <tr>\n      <th>101761</th>\n      <td>443847548</td>\n      <td>100162476</td>\n      <td>AfricanAmerican</td>\n      <td>Male</td>\n      <td>[70-80)</td>\n      <td>?</td>\n      <td>1</td>\n      <td>3</td>\n      <td>7</td>\n      <td>3</td>\n      <td>...</td>\n      <td>No</td>\n      <td>Down</td>\n      <td>No</td>\n      <td>No</td>\n      <td>No</td>\n      <td>No</td>\n      <td>No</td>\n      <td>Ch</td>\n      <td>Yes</td>\n      <td>&gt;30</td>\n    </tr>\n    <tr>\n      <th>101762</th>\n      <td>443847782</td>\n      <td>74694222</td>\n      <td>AfricanAmerican</td>\n      <td>Female</td>\n      <td>[80-90)</td>\n      <td>?</td>\n      <td>1</td>\n      <td>4</td>\n      <td>5</td>\n      <td>5</td>\n      <td>...</td>\n      <td>No</td>\n      <td>Steady</td>\n      <td>No</td>\n      <td>No</td>\n      <td>No</td>\n      <td>No</td>\n      <td>No</td>\n      <td>No</td>\n      <td>Yes</td>\n      <td>NO</td>\n    </tr>\n    <tr>\n      <th>101763</th>\n      <td>443854148</td>\n      <td>41088789</td>\n      <td>Caucasian</td>\n      <td>Male</td>\n      <td>[70-80)</td>\n      <td>?</td>\n      <td>1</td>\n      <td>1</td>\n      <td>7</td>\n      <td>1</td>\n      <td>...</td>\n      <td>No</td>\n      <td>Down</td>\n      <td>No</td>\n      <td>No</td>\n      <td>No</td>\n      <td>No</td>\n      <td>No</td>\n      <td>Ch</td>\n      <td>Yes</td>\n      <td>NO</td>\n    </tr>\n    <tr>\n      <th>101764</th>\n      <td>443857166</td>\n      <td>31693671</td>\n      <td>Caucasian</td>\n      <td>Female</td>\n      <td>[80-90)</td>\n      <td>?</td>\n      <td>2</td>\n      <td>3</td>\n      <td>7</td>\n      <td>10</td>\n      <td>...</td>\n      <td>No</td>\n      <td>Up</td>\n      <td>No</td>\n      <td>No</td>\n      <td>No</td>\n      <td>No</td>\n      <td>No</td>\n      <td>Ch</td>\n      <td>Yes</td>\n      <td>NO</td>\n    </tr>\n    <tr>\n      <th>101765</th>\n      <td>443867222</td>\n      <td>175429310</td>\n      <td>Caucasian</td>\n      <td>Male</td>\n      <td>[70-80)</td>\n      <td>?</td>\n      <td>1</td>\n      <td>1</td>\n      <td>7</td>\n      <td>6</td>\n      <td>...</td>\n      <td>No</td>\n      <td>No</td>\n      <td>No</td>\n      <td>No</td>\n      <td>No</td>\n      <td>No</td>\n      <td>No</td>\n      <td>No</td>\n      <td>No</td>\n      <td>NO</td>\n    </tr>\n  </tbody>\n</table>\n<p>5 rows × 50 columns</p>\n</div>"
     },
     "metadata": {}
    }
   ],
   "source": [
    "display(df_raw.head())\n",
    "display(df_raw.tail())"
   ]
  },
  {
   "cell_type": "code",
   "execution_count": 39,
   "metadata": {},
   "outputs": [],
   "source": [
    "columnas_dropear = []\n",
    "columnas_dropear.append('encounter_id')\n",
    "columnas_dropear.append('patient_nbr')"
   ]
  },
  {
   "cell_type": "code",
   "execution_count": 33,
   "metadata": {},
   "outputs": [
    {
     "output_type": "stream",
     "name": "stdout",
     "text": [
      "<class 'pandas.core.frame.DataFrame'>\nRangeIndex: 101766 entries, 0 to 101765\nData columns (total 50 columns):\n #   Column                    Non-Null Count   Dtype \n---  ------                    --------------   ----- \n 0   encounter_id              101766 non-null  int64 \n 1   patient_nbr               101766 non-null  int64 \n 2   race                      101766 non-null  object\n 3   gender                    101766 non-null  object\n 4   age                       101766 non-null  object\n 5   weight                    101766 non-null  object\n 6   admission_type_id         101766 non-null  int64 \n 7   discharge_disposition_id  101766 non-null  int64 \n 8   admission_source_id       101766 non-null  int64 \n 9   time_in_hospital          101766 non-null  int64 \n 10  payer_code                101766 non-null  object\n 11  medical_specialty         101766 non-null  object\n 12  num_lab_procedures        101766 non-null  int64 \n 13  num_procedures            101766 non-null  int64 \n 14  num_medications           101766 non-null  int64 \n 15  number_outpatient         101766 non-null  int64 \n 16  number_emergency          101766 non-null  int64 \n 17  number_inpatient          101766 non-null  int64 \n 18  diag_1                    101766 non-null  object\n 19  diag_2                    101766 non-null  object\n 20  diag_3                    101766 non-null  object\n 21  number_diagnoses          101766 non-null  int64 \n 22  max_glu_serum             101766 non-null  object\n 23  A1Cresult                 101766 non-null  object\n 24  metformin                 101766 non-null  object\n 25  repaglinide               101766 non-null  object\n 26  nateglinide               101766 non-null  object\n 27  chlorpropamide            101766 non-null  object\n 28  glimepiride               101766 non-null  object\n 29  acetohexamide             101766 non-null  object\n 30  glipizide                 101766 non-null  object\n 31  glyburide                 101766 non-null  object\n 32  tolbutamide               101766 non-null  object\n 33  pioglitazone              101766 non-null  object\n 34  rosiglitazone             101766 non-null  object\n 35  acarbose                  101766 non-null  object\n 36  miglitol                  101766 non-null  object\n 37  troglitazone              101766 non-null  object\n 38  tolazamide                101766 non-null  object\n 39  examide                   101766 non-null  object\n 40  citoglipton               101766 non-null  object\n 41  insulin                   101766 non-null  object\n 42  glyburide-metformin       101766 non-null  object\n 43  glipizide-metformin       101766 non-null  object\n 44  glimepiride-pioglitazone  101766 non-null  object\n 45  metformin-rosiglitazone   101766 non-null  object\n 46  metformin-pioglitazone    101766 non-null  object\n 47  change                    101766 non-null  object\n 48  diabetesMed               101766 non-null  object\n 49  readmitted                101766 non-null  object\ndtypes: int64(13), object(37)\nmemory usage: 38.8+ MB\n"
     ]
    }
   ],
   "source": [
    "df_raw.info()"
   ]
  },
  {
   "cell_type": "code",
   "execution_count": 46,
   "metadata": {},
   "outputs": [
    {
     "output_type": "display_data",
     "data": {
      "text/plain": "                             count          mean           std      min  \\\nencounter_id              101766.0  1.652016e+08  1.026403e+08  12522.0   \npatient_nbr               101766.0  5.433040e+07  3.869636e+07    135.0   \nadmission_type_id         101766.0  2.024006e+00  1.445403e+00      1.0   \ndischarge_disposition_id  101766.0  3.715642e+00  5.280166e+00      1.0   \nadmission_source_id       101766.0  5.754437e+00  4.064081e+00      1.0   \ntime_in_hospital          101766.0  4.395987e+00  2.985108e+00      1.0   \nnum_lab_procedures        101766.0  4.309564e+01  1.967436e+01      1.0   \nnum_procedures            101766.0  1.339730e+00  1.705807e+00      0.0   \nnum_medications           101766.0  1.602184e+01  8.127566e+00      1.0   \nnumber_outpatient         101766.0  3.693572e-01  1.267265e+00      0.0   \nnumber_emergency          101766.0  1.978362e-01  9.304723e-01      0.0   \nnumber_inpatient          101766.0  6.355659e-01  1.262863e+00      0.0   \nnumber_diagnoses          101766.0  7.422607e+00  1.933600e+00      1.0   \n\n                                 25%          50%           75%          max  \nencounter_id              84961194.0  152388987.0  2.302709e+08  443867222.0  \npatient_nbr               23413221.0   45505143.0  8.754595e+07  189502619.0  \nadmission_type_id                1.0          1.0  3.000000e+00          8.0  \ndischarge_disposition_id         1.0          1.0  4.000000e+00         28.0  \nadmission_source_id              1.0          7.0  7.000000e+00         25.0  \ntime_in_hospital                 2.0          4.0  6.000000e+00         14.0  \nnum_lab_procedures              31.0         44.0  5.700000e+01        132.0  \nnum_procedures                   0.0          1.0  2.000000e+00          6.0  \nnum_medications                 10.0         15.0  2.000000e+01         81.0  \nnumber_outpatient                0.0          0.0  0.000000e+00         42.0  \nnumber_emergency                 0.0          0.0  0.000000e+00         76.0  \nnumber_inpatient                 0.0          0.0  1.000000e+00         21.0  \nnumber_diagnoses                 6.0          8.0  9.000000e+00         16.0  ",
      "text/html": "<div>\n<style scoped>\n    .dataframe tbody tr th:only-of-type {\n        vertical-align: middle;\n    }\n\n    .dataframe tbody tr th {\n        vertical-align: top;\n    }\n\n    .dataframe thead th {\n        text-align: right;\n    }\n</style>\n<table border=\"1\" class=\"dataframe\">\n  <thead>\n    <tr style=\"text-align: right;\">\n      <th></th>\n      <th>count</th>\n      <th>mean</th>\n      <th>std</th>\n      <th>min</th>\n      <th>25%</th>\n      <th>50%</th>\n      <th>75%</th>\n      <th>max</th>\n    </tr>\n  </thead>\n  <tbody>\n    <tr>\n      <th>encounter_id</th>\n      <td>101766.0</td>\n      <td>1.652016e+08</td>\n      <td>1.026403e+08</td>\n      <td>12522.0</td>\n      <td>84961194.0</td>\n      <td>152388987.0</td>\n      <td>2.302709e+08</td>\n      <td>443867222.0</td>\n    </tr>\n    <tr>\n      <th>patient_nbr</th>\n      <td>101766.0</td>\n      <td>5.433040e+07</td>\n      <td>3.869636e+07</td>\n      <td>135.0</td>\n      <td>23413221.0</td>\n      <td>45505143.0</td>\n      <td>8.754595e+07</td>\n      <td>189502619.0</td>\n    </tr>\n    <tr>\n      <th>admission_type_id</th>\n      <td>101766.0</td>\n      <td>2.024006e+00</td>\n      <td>1.445403e+00</td>\n      <td>1.0</td>\n      <td>1.0</td>\n      <td>1.0</td>\n      <td>3.000000e+00</td>\n      <td>8.0</td>\n    </tr>\n    <tr>\n      <th>discharge_disposition_id</th>\n      <td>101766.0</td>\n      <td>3.715642e+00</td>\n      <td>5.280166e+00</td>\n      <td>1.0</td>\n      <td>1.0</td>\n      <td>1.0</td>\n      <td>4.000000e+00</td>\n      <td>28.0</td>\n    </tr>\n    <tr>\n      <th>admission_source_id</th>\n      <td>101766.0</td>\n      <td>5.754437e+00</td>\n      <td>4.064081e+00</td>\n      <td>1.0</td>\n      <td>1.0</td>\n      <td>7.0</td>\n      <td>7.000000e+00</td>\n      <td>25.0</td>\n    </tr>\n    <tr>\n      <th>time_in_hospital</th>\n      <td>101766.0</td>\n      <td>4.395987e+00</td>\n      <td>2.985108e+00</td>\n      <td>1.0</td>\n      <td>2.0</td>\n      <td>4.0</td>\n      <td>6.000000e+00</td>\n      <td>14.0</td>\n    </tr>\n    <tr>\n      <th>num_lab_procedures</th>\n      <td>101766.0</td>\n      <td>4.309564e+01</td>\n      <td>1.967436e+01</td>\n      <td>1.0</td>\n      <td>31.0</td>\n      <td>44.0</td>\n      <td>5.700000e+01</td>\n      <td>132.0</td>\n    </tr>\n    <tr>\n      <th>num_procedures</th>\n      <td>101766.0</td>\n      <td>1.339730e+00</td>\n      <td>1.705807e+00</td>\n      <td>0.0</td>\n      <td>0.0</td>\n      <td>1.0</td>\n      <td>2.000000e+00</td>\n      <td>6.0</td>\n    </tr>\n    <tr>\n      <th>num_medications</th>\n      <td>101766.0</td>\n      <td>1.602184e+01</td>\n      <td>8.127566e+00</td>\n      <td>1.0</td>\n      <td>10.0</td>\n      <td>15.0</td>\n      <td>2.000000e+01</td>\n      <td>81.0</td>\n    </tr>\n    <tr>\n      <th>number_outpatient</th>\n      <td>101766.0</td>\n      <td>3.693572e-01</td>\n      <td>1.267265e+00</td>\n      <td>0.0</td>\n      <td>0.0</td>\n      <td>0.0</td>\n      <td>0.000000e+00</td>\n      <td>42.0</td>\n    </tr>\n    <tr>\n      <th>number_emergency</th>\n      <td>101766.0</td>\n      <td>1.978362e-01</td>\n      <td>9.304723e-01</td>\n      <td>0.0</td>\n      <td>0.0</td>\n      <td>0.0</td>\n      <td>0.000000e+00</td>\n      <td>76.0</td>\n    </tr>\n    <tr>\n      <th>number_inpatient</th>\n      <td>101766.0</td>\n      <td>6.355659e-01</td>\n      <td>1.262863e+00</td>\n      <td>0.0</td>\n      <td>0.0</td>\n      <td>0.0</td>\n      <td>1.000000e+00</td>\n      <td>21.0</td>\n    </tr>\n    <tr>\n      <th>number_diagnoses</th>\n      <td>101766.0</td>\n      <td>7.422607e+00</td>\n      <td>1.933600e+00</td>\n      <td>1.0</td>\n      <td>6.0</td>\n      <td>8.0</td>\n      <td>9.000000e+00</td>\n      <td>16.0</td>\n    </tr>\n  </tbody>\n</table>\n</div>"
     },
     "metadata": {}
    },
    {
     "output_type": "display_data",
     "data": {
      "text/plain": "             race  gender      age  weight payer_code medical_specialty  \\\ncount      101766  101766   101766  101766     101766            101766   \nunique          6       3       10      10         18                73   \ntop     Caucasian  Female  [70-80)       ?          ?                 ?   \nfreq        76099   54708    26068   98569      40256             49949   \n\n        diag_1  diag_2  diag_3 max_glu_serum  ... citoglipton insulin  \\\ncount   101766  101766  101766        101766  ...      101766  101766   \nunique     717     749     790             4  ...           1       4   \ntop        428     276     250          None  ...          No      No   \nfreq      6862    6752   11555         96420  ...      101766   47383   \n\n       glyburide-metformin glipizide-metformin glimepiride-pioglitazone  \\\ncount               101766              101766                   101766   \nunique                   4                   2                        2   \ntop                     No                  No                       No   \nfreq                101060              101753                   101765   \n\n       metformin-rosiglitazone metformin-pioglitazone  change diabetesMed  \\\ncount                   101766                 101766  101766      101766   \nunique                       2                      2       2           2   \ntop                         No                     No      No         Yes   \nfreq                    101764                 101765   54755       78363   \n\n       readmitted  \ncount      101766  \nunique          3  \ntop            NO  \nfreq        54864  \n\n[4 rows x 37 columns]",
      "text/html": "<div>\n<style scoped>\n    .dataframe tbody tr th:only-of-type {\n        vertical-align: middle;\n    }\n\n    .dataframe tbody tr th {\n        vertical-align: top;\n    }\n\n    .dataframe thead th {\n        text-align: right;\n    }\n</style>\n<table border=\"1\" class=\"dataframe\">\n  <thead>\n    <tr style=\"text-align: right;\">\n      <th></th>\n      <th>race</th>\n      <th>gender</th>\n      <th>age</th>\n      <th>weight</th>\n      <th>payer_code</th>\n      <th>medical_specialty</th>\n      <th>diag_1</th>\n      <th>diag_2</th>\n      <th>diag_3</th>\n      <th>max_glu_serum</th>\n      <th>...</th>\n      <th>citoglipton</th>\n      <th>insulin</th>\n      <th>glyburide-metformin</th>\n      <th>glipizide-metformin</th>\n      <th>glimepiride-pioglitazone</th>\n      <th>metformin-rosiglitazone</th>\n      <th>metformin-pioglitazone</th>\n      <th>change</th>\n      <th>diabetesMed</th>\n      <th>readmitted</th>\n    </tr>\n  </thead>\n  <tbody>\n    <tr>\n      <th>count</th>\n      <td>101766</td>\n      <td>101766</td>\n      <td>101766</td>\n      <td>101766</td>\n      <td>101766</td>\n      <td>101766</td>\n      <td>101766</td>\n      <td>101766</td>\n      <td>101766</td>\n      <td>101766</td>\n      <td>...</td>\n      <td>101766</td>\n      <td>101766</td>\n      <td>101766</td>\n      <td>101766</td>\n      <td>101766</td>\n      <td>101766</td>\n      <td>101766</td>\n      <td>101766</td>\n      <td>101766</td>\n      <td>101766</td>\n    </tr>\n    <tr>\n      <th>unique</th>\n      <td>6</td>\n      <td>3</td>\n      <td>10</td>\n      <td>10</td>\n      <td>18</td>\n      <td>73</td>\n      <td>717</td>\n      <td>749</td>\n      <td>790</td>\n      <td>4</td>\n      <td>...</td>\n      <td>1</td>\n      <td>4</td>\n      <td>4</td>\n      <td>2</td>\n      <td>2</td>\n      <td>2</td>\n      <td>2</td>\n      <td>2</td>\n      <td>2</td>\n      <td>3</td>\n    </tr>\n    <tr>\n      <th>top</th>\n      <td>Caucasian</td>\n      <td>Female</td>\n      <td>[70-80)</td>\n      <td>?</td>\n      <td>?</td>\n      <td>?</td>\n      <td>428</td>\n      <td>276</td>\n      <td>250</td>\n      <td>None</td>\n      <td>...</td>\n      <td>No</td>\n      <td>No</td>\n      <td>No</td>\n      <td>No</td>\n      <td>No</td>\n      <td>No</td>\n      <td>No</td>\n      <td>No</td>\n      <td>Yes</td>\n      <td>NO</td>\n    </tr>\n    <tr>\n      <th>freq</th>\n      <td>76099</td>\n      <td>54708</td>\n      <td>26068</td>\n      <td>98569</td>\n      <td>40256</td>\n      <td>49949</td>\n      <td>6862</td>\n      <td>6752</td>\n      <td>11555</td>\n      <td>96420</td>\n      <td>...</td>\n      <td>101766</td>\n      <td>47383</td>\n      <td>101060</td>\n      <td>101753</td>\n      <td>101765</td>\n      <td>101764</td>\n      <td>101765</td>\n      <td>54755</td>\n      <td>78363</td>\n      <td>54864</td>\n    </tr>\n  </tbody>\n</table>\n<p>4 rows × 37 columns</p>\n</div>"
     },
     "metadata": {}
    }
   ],
   "source": [
    "display(df_raw.describe().T)\n",
    "display(df_raw.describe(include=[object]))"
   ]
  },
  {
   "cell_type": "code",
   "execution_count": null,
   "metadata": {},
   "outputs": [],
   "source": []
  },
  {
   "cell_type": "code",
   "execution_count": 31,
   "metadata": {},
   "outputs": [
    {
     "output_type": "execute_result",
     "data": {
      "text/plain": [
       "encounter_id                0\n",
       "patient_nbr                 0\n",
       "race                        0\n",
       "gender                      0\n",
       "age                         0\n",
       "weight                      0\n",
       "admission_type_id           0\n",
       "discharge_disposition_id    0\n",
       "admission_source_id         0\n",
       "time_in_hospital            0\n",
       "payer_code                  0\n",
       "medical_specialty           0\n",
       "num_lab_procedures          0\n",
       "num_procedures              0\n",
       "num_medications             0\n",
       "number_outpatient           0\n",
       "number_emergency            0\n",
       "number_inpatient            0\n",
       "diag_1                      0\n",
       "diag_2                      0\n",
       "diag_3                      0\n",
       "number_diagnoses            0\n",
       "max_glu_serum               0\n",
       "A1Cresult                   0\n",
       "metformin                   0\n",
       "repaglinide                 0\n",
       "nateglinide                 0\n",
       "chlorpropamide              0\n",
       "glimepiride                 0\n",
       "acetohexamide               0\n",
       "glipizide                   0\n",
       "glyburide                   0\n",
       "tolbutamide                 0\n",
       "pioglitazone                0\n",
       "rosiglitazone               0\n",
       "acarbose                    0\n",
       "miglitol                    0\n",
       "troglitazone                0\n",
       "tolazamide                  0\n",
       "examide                     0\n",
       "citoglipton                 0\n",
       "insulin                     0\n",
       "glyburide-metformin         0\n",
       "glipizide-metformin         0\n",
       "glimepiride-pioglitazone    0\n",
       "metformin-rosiglitazone     0\n",
       "metformin-pioglitazone      0\n",
       "change                      0\n",
       "diabetesMed                 0\n",
       "readmitted                  0\n",
       "dtype: int64"
      ]
     },
     "metadata": {},
     "execution_count": 31
    }
   ],
   "source": [
    "df_raw.isnull().sum()"
   ]
  },
  {
   "cell_type": "code",
   "execution_count": 25,
   "metadata": {},
   "outputs": [
    {
     "output_type": "display_data",
     "data": {
      "text/plain": "81939           ?\n53901           ?\n34835           ?\n97073           ?\n2020            ?\n54954    [75-100)\n81667           ?\n44095           ?\n34855           ?\n61493           ?\n42955           ?\n27237           ?\n54910           ?\n75725           ?\n96771           ?\n37947           ?\n89452           ?\n16645           ?\n67633           ?\n18002           ?\nName: weight, dtype: object"
     },
     "metadata": {}
    },
    {
     "output_type": "display_data",
     "data": {
      "text/plain": "?            98569\n[75-100)      1336\n[50-75)        897\n[100-125)      625\n[125-150)      145\n[25-50)         97\n[0-25)          48\n[150-175)       35\n[175-200)       11\n>200             3\nName: weight, dtype: int64"
     },
     "metadata": {}
    }
   ],
   "source": [
    "display(df_raw.sample(20)['weight'])\n",
    "display(df_raw['weight'].value_counts())"
   ]
  },
  {
   "cell_type": "code",
   "execution_count": null,
   "metadata": {},
   "outputs": [],
   "source": [
    "columnas_dropear = []\n",
    "columnas_dropear.append('weight')"
   ]
  }
 ]
}